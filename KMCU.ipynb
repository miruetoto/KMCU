{
 "cells": [
  {
   "cell_type": "raw",
   "id": "f8e0294c-740a-4a98-8a04-08b5cc173243",
   "metadata": {},
   "source": [
    "---\n",
    "title: \"Heavy-snow transform\"\n",
    "bibliography: ref.bib\n",
    "subtitle: \"A new multiscale method for non-Euclidean data\"\n",
    "author: \"Guebin Choi\"\n",
    "title-block-style: default\n",
    "title-block-banner: true\n",
    "format:\n",
    "  revealjs:\n",
    "    theme: dark\n",
    "    chalkboard: true\n",
    "    slide-number: true\n",
    "    suppress-bibliography: true\n",
    "---"
   ]
  },
  {
   "cell_type": "markdown",
   "id": "66966902",
   "metadata": {},
   "source": [
    "## Contents \n",
    "\n",
    "- Motivation \n",
    "\n",
    "- Proposed method (quick view) \n",
    "\n",
    "- Related studies\n",
    "\n",
    "- Proposed method\n",
    "\n",
    "- Real data analysis\n"
   ]
  }
 ],
 "metadata": {
  "kernelspec": {
   "display_name": "Python 3 (ipykernel)",
   "language": "python",
   "name": "python3"
  },
  "language_info": {
   "codemirror_mode": {
    "name": "ipython",
    "version": 3
   },
   "file_extension": ".py",
   "mimetype": "text/x-python",
   "name": "python",
   "nbconvert_exporter": "python",
   "pygments_lexer": "ipython3",
   "version": "3.10.13"
  }
 },
 "nbformat": 4,
 "nbformat_minor": 5
}
